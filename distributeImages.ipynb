{
 "cells": [
  {
   "cell_type": "markdown",
   "id": "22c52418-1713-46e6-bf43-598f1f42c15c",
   "metadata": {},
   "source": [
    "# Moving images to right folders"
   ]
  },
  {
   "cell_type": "code",
   "execution_count": 24,
   "id": "ec94ba39-8364-434f-b5ea-e1c73bbb6b4a",
   "metadata": {},
   "outputs": [],
   "source": [
    "import pandas as pd\n",
    "import shutil\n",
    "import os.path"
   ]
  },
  {
   "cell_type": "markdown",
   "id": "ba4095fd-5860-4fb7-9c25-c07bc0abc30c",
   "metadata": {
    "tags": []
   },
   "source": [
    "## Loading the dataset\n",
    "\n",
    "First we need to download the data set with all the names of the images. This dataset is named **bee_data.csv**"
   ]
  },
  {
   "cell_type": "code",
   "execution_count": 25,
   "id": "ef93b38d-e1c6-4b6b-84e1-49cd3526835b",
   "metadata": {},
   "outputs": [
    {
     "name": "stdout",
     "output_type": "stream",
     "text": [
      "          file     date   time        location  zip code subspecies  \\\n",
      "0  041_066.png  8/28/18  16:07  Alvin, TX, USA     77511         -1   \n",
      "1  041_072.png  8/28/18  16:07  Alvin, TX, USA     77511         -1   \n",
      "2  041_073.png  8/28/18  16:07  Alvin, TX, USA     77511         -1   \n",
      "3  041_067.png  8/28/18  16:07  Alvin, TX, USA     77511         -1   \n",
      "4  041_059.png  8/28/18  16:07  Alvin, TX, USA     77511         -1   \n",
      "\n",
      "              health  pollen_carrying   caste  \n",
      "0  hive being robbed            False  worker  \n",
      "1  hive being robbed            False  worker  \n",
      "2  hive being robbed            False  worker  \n",
      "3  hive being robbed            False  worker  \n",
      "4  hive being robbed            False  worker  \n"
     ]
    }
   ],
   "source": [
    "df = pd.read_csv('bee_data.csv')\n",
    "\n",
    "print(df.head())"
   ]
  },
  {
   "cell_type": "markdown",
   "id": "b6dee5b4-8c85-49b3-8d50-804da818a5b9",
   "metadata": {},
   "source": [
    "### Moving images to new folder\n",
    "\n",
    "Now that we have a dataframe with the file names and health states we can start moving the images to the right folder."
   ]
  },
  {
   "cell_type": "code",
   "execution_count": 30,
   "id": "3cff07eb-a01a-4b09-ad7f-db2f6493d758",
   "metadata": {},
   "outputs": [],
   "source": [
    "pathFrom = \"./bee_imgs/bee_imgs/\"\n",
    "pathTo = \"./bee_health_imgs/\"\n",
    "\n",
    "#df = df.reset_index()  # make sure indexes pair with number of rows\n",
    "\n",
    "for index, row in df.iterrows():\n",
    "    #print(row['file'], row['health'])\n",
    "    fileName = row['file']\n",
    "    healthState = row['health']\n",
    "    shutil.copy((pathFrom + fileName), (pathTo + healthState + '/' + fileName))"
   ]
  },
  {
   "cell_type": "code",
   "execution_count": null,
   "id": "5f630954-b4e0-46e0-a2c1-e4ea0c5fbb31",
   "metadata": {},
   "outputs": [],
   "source": []
  }
 ],
 "metadata": {
  "kernelspec": {
   "display_name": "Python 3.9 (tensorflow)",
   "language": "python",
   "name": "tensorflow"
  },
  "language_info": {
   "codemirror_mode": {
    "name": "ipython",
    "version": 3
   },
   "file_extension": ".py",
   "mimetype": "text/x-python",
   "name": "python",
   "nbconvert_exporter": "python",
   "pygments_lexer": "ipython3",
   "version": "3.9.11"
  }
 },
 "nbformat": 4,
 "nbformat_minor": 5
}
