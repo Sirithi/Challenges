{
 "cells": [
  {
   "cell_type": "markdown",
   "id": "6a1e15e9-946b-4ebd-9f54-55700690c01e",
   "metadata": {},
   "source": [
    "Ten eerste willen we inzicht krijgen in de data dit doen we door met behulp van pandas de data in te laden uit de csv. Daarnaast is het handig om het pad naar de images direct op te slaan."
   ]
  },
  {
   "cell_type": "code",
   "execution_count": 1,
   "id": "7c401bdb-e7aa-4980-8ae4-5bb8f4f6bbfe",
   "metadata": {},
   "outputs": [],
   "source": [
    "import pandas as pd\n",
    "import os\n",
    "import skimage\n",
    "import skimage.io\n",
    "import skimage.transform\n",
    "import matplotlib.pyplot as plt\n",
    "import numpy as np"
   ]
  },
  {
   "cell_type": "code",
   "execution_count": 2,
   "id": "53f87268-489a-4401-8ea0-2ee120baecae",
   "metadata": {},
   "outputs": [
    {
     "data": {
      "text/html": [
       "<div>\n",
       "<style scoped>\n",
       "    .dataframe tbody tr th:only-of-type {\n",
       "        vertical-align: middle;\n",
       "    }\n",
       "\n",
       "    .dataframe tbody tr th {\n",
       "        vertical-align: top;\n",
       "    }\n",
       "\n",
       "    .dataframe thead th {\n",
       "        text-align: right;\n",
       "    }\n",
       "</style>\n",
       "<table border=\"1\" class=\"dataframe\">\n",
       "  <thead>\n",
       "    <tr style=\"text-align: right;\">\n",
       "      <th></th>\n",
       "      <th>file</th>\n",
       "      <th>date</th>\n",
       "      <th>time</th>\n",
       "      <th>location</th>\n",
       "      <th>zip code</th>\n",
       "      <th>subspecies</th>\n",
       "      <th>health</th>\n",
       "      <th>pollen_carrying</th>\n",
       "      <th>caste</th>\n",
       "    </tr>\n",
       "  </thead>\n",
       "  <tbody>\n",
       "    <tr>\n",
       "      <th>4615</th>\n",
       "      <td>038_385.png</td>\n",
       "      <td>8/18/18</td>\n",
       "      <td>12:30</td>\n",
       "      <td>Athens, Georgia, USA</td>\n",
       "      <td>30607</td>\n",
       "      <td>1 Mixed local stock 2</td>\n",
       "      <td>Varroa, Small Hive Beetles</td>\n",
       "      <td>False</td>\n",
       "      <td>worker</td>\n",
       "    </tr>\n",
       "    <tr>\n",
       "      <th>1522</th>\n",
       "      <td>040_129.png</td>\n",
       "      <td>8/21/18</td>\n",
       "      <td>15:56</td>\n",
       "      <td>Athens, GA, USA</td>\n",
       "      <td>30607</td>\n",
       "      <td>Italian honey bee</td>\n",
       "      <td>few varrao, hive beetles</td>\n",
       "      <td>False</td>\n",
       "      <td>worker</td>\n",
       "    </tr>\n",
       "    <tr>\n",
       "      <th>860</th>\n",
       "      <td>030_559.png</td>\n",
       "      <td>8/17/18</td>\n",
       "      <td>17:50</td>\n",
       "      <td>Alvin, TX, USA</td>\n",
       "      <td>77511</td>\n",
       "      <td>Italian honey bee</td>\n",
       "      <td>ant problems</td>\n",
       "      <td>False</td>\n",
       "      <td>worker</td>\n",
       "    </tr>\n",
       "    <tr>\n",
       "      <th>2301</th>\n",
       "      <td>009_068.png</td>\n",
       "      <td>7/3/18</td>\n",
       "      <td>16:10</td>\n",
       "      <td>Saratoga, CA, USA</td>\n",
       "      <td>95070</td>\n",
       "      <td>Italian honey bee</td>\n",
       "      <td>healthy</td>\n",
       "      <td>False</td>\n",
       "      <td>worker</td>\n",
       "    </tr>\n",
       "    <tr>\n",
       "      <th>1431</th>\n",
       "      <td>005_434.png</td>\n",
       "      <td>7/7/18</td>\n",
       "      <td>12:56</td>\n",
       "      <td>Saratoga, CA, USA</td>\n",
       "      <td>95070</td>\n",
       "      <td>Italian honey bee</td>\n",
       "      <td>healthy</td>\n",
       "      <td>False</td>\n",
       "      <td>worker</td>\n",
       "    </tr>\n",
       "  </tbody>\n",
       "</table>\n",
       "</div>"
      ],
      "text/plain": [
       "             file     date   time              location  zip code  \\\n",
       "4615  038_385.png  8/18/18  12:30  Athens, Georgia, USA     30607   \n",
       "1522  040_129.png  8/21/18  15:56       Athens, GA, USA     30607   \n",
       "860   030_559.png  8/17/18  17:50        Alvin, TX, USA     77511   \n",
       "2301  009_068.png   7/3/18  16:10     Saratoga, CA, USA     95070   \n",
       "1431  005_434.png   7/7/18  12:56     Saratoga, CA, USA     95070   \n",
       "\n",
       "                 subspecies                      health  pollen_carrying  \\\n",
       "4615  1 Mixed local stock 2  Varroa, Small Hive Beetles            False   \n",
       "1522      Italian honey bee    few varrao, hive beetles            False   \n",
       "860       Italian honey bee                ant problems            False   \n",
       "2301      Italian honey bee                     healthy            False   \n",
       "1431      Italian honey bee                     healthy            False   \n",
       "\n",
       "       caste  \n",
       "4615  worker  \n",
       "1522  worker  \n",
       "860   worker  \n",
       "2301  worker  \n",
       "1431  worker  "
      ]
     },
     "execution_count": 2,
     "metadata": {},
     "output_type": "execute_result"
    }
   ],
   "source": [
    "bees_df = pd.read_csv('bee_data.csv')\n",
    "bees_df.sample(100).head()"
   ]
  },
  {
   "cell_type": "code",
   "execution_count": 3,
   "id": "9428eb9c-0f1b-40f7-b526-c92f2faa39fc",
   "metadata": {},
   "outputs": [],
   "source": [
    "IMG_PATH = \"./bee_imgs/bee_imgs/\""
   ]
  },
  {
   "cell_type": "code",
   "execution_count": 4,
   "id": "0a75c025-7888-4752-ae0f-68483a185145",
   "metadata": {},
   "outputs": [
    {
     "data": {
      "text/plain": [
       "(5172, 9)"
      ]
     },
     "execution_count": 4,
     "metadata": {},
     "output_type": "execute_result"
    }
   ],
   "source": [
    "bees_df.shape"
   ]
  },
  {
   "cell_type": "code",
   "execution_count": 5,
   "id": "646e4efc-d021-4df2-94ff-eb7511680dd3",
   "metadata": {},
   "outputs": [
    {
     "data": {
      "text/html": [
       "<div>\n",
       "<style scoped>\n",
       "    .dataframe tbody tr th:only-of-type {\n",
       "        vertical-align: middle;\n",
       "    }\n",
       "\n",
       "    .dataframe tbody tr th {\n",
       "        vertical-align: top;\n",
       "    }\n",
       "\n",
       "    .dataframe thead th {\n",
       "        text-align: right;\n",
       "    }\n",
       "</style>\n",
       "<table border=\"1\" class=\"dataframe\">\n",
       "  <thead>\n",
       "    <tr style=\"text-align: right;\">\n",
       "      <th></th>\n",
       "      <th>Total</th>\n",
       "      <th>Percent</th>\n",
       "    </tr>\n",
       "  </thead>\n",
       "  <tbody>\n",
       "    <tr>\n",
       "      <th>file</th>\n",
       "      <td>0</td>\n",
       "      <td>0.0</td>\n",
       "    </tr>\n",
       "    <tr>\n",
       "      <th>date</th>\n",
       "      <td>0</td>\n",
       "      <td>0.0</td>\n",
       "    </tr>\n",
       "    <tr>\n",
       "      <th>time</th>\n",
       "      <td>0</td>\n",
       "      <td>0.0</td>\n",
       "    </tr>\n",
       "    <tr>\n",
       "      <th>location</th>\n",
       "      <td>0</td>\n",
       "      <td>0.0</td>\n",
       "    </tr>\n",
       "    <tr>\n",
       "      <th>zip code</th>\n",
       "      <td>0</td>\n",
       "      <td>0.0</td>\n",
       "    </tr>\n",
       "    <tr>\n",
       "      <th>subspecies</th>\n",
       "      <td>0</td>\n",
       "      <td>0.0</td>\n",
       "    </tr>\n",
       "    <tr>\n",
       "      <th>health</th>\n",
       "      <td>0</td>\n",
       "      <td>0.0</td>\n",
       "    </tr>\n",
       "    <tr>\n",
       "      <th>pollen_carrying</th>\n",
       "      <td>0</td>\n",
       "      <td>0.0</td>\n",
       "    </tr>\n",
       "    <tr>\n",
       "      <th>caste</th>\n",
       "      <td>0</td>\n",
       "      <td>0.0</td>\n",
       "    </tr>\n",
       "  </tbody>\n",
       "</table>\n",
       "</div>"
      ],
      "text/plain": [
       "                 Total  Percent\n",
       "file                 0      0.0\n",
       "date                 0      0.0\n",
       "time                 0      0.0\n",
       "location             0      0.0\n",
       "zip code             0      0.0\n",
       "subspecies           0      0.0\n",
       "health               0      0.0\n",
       "pollen_carrying      0      0.0\n",
       "caste                0      0.0"
      ]
     },
     "execution_count": 5,
     "metadata": {},
     "output_type": "execute_result"
    }
   ],
   "source": [
    "def missing_data(data):\n",
    "    total = data.isnull().sum().sort_values(ascending = False)\n",
    "    percent = (data.isnull().sum()/data.isnull().count()*100).sort_values(ascending = False)\n",
    "    return pd.concat([total, percent], axis=1, keys=['Total', 'Percent'])\n",
    "missing_data(bees_df)"
   ]
  },
  {
   "cell_type": "code",
   "execution_count": 6,
   "id": "addc7e9f-4b47-4c1e-acc9-463a9dfafa2a",
   "metadata": {},
   "outputs": [
    {
     "name": "stdout",
     "output_type": "stream",
     "text": [
      "Number of image files: 5172\n"
     ]
    }
   ],
   "source": [
    "image_files = list(os.listdir(IMG_PATH))\n",
    "print(\"Number of image files: {}\".format(len(image_files)))"
   ]
  },
  {
   "cell_type": "code",
   "execution_count": 7,
   "id": "a74c032d-2583-419c-8ec6-b40b8b5ad65f",
   "metadata": {},
   "outputs": [
    {
     "name": "stdout",
     "output_type": "stream",
     "text": [
      "Matching image names: 5172\n"
     ]
    }
   ],
   "source": [
    "file_names = list(bees_df['file'])\n",
    "print(\"Matching image names: {}\".format(len(set(file_names).intersection(image_files))))"
   ]
  },
  {
   "cell_type": "code",
   "execution_count": 8,
   "id": "f16b16b0-0236-45cf-9d1a-ef64ffb6caae",
   "metadata": {},
   "outputs": [
    {
     "name": "stdout",
     "output_type": "stream",
     "text": [
      "[64, 68, 3]\n"
     ]
    }
   ],
   "source": [
    "def read_image_sizes(file_name):\n",
    "    image = skimage.io.imread(IMG_PATH + file_name)\n",
    "    return list(image.shape)\n",
    "print(read_image_sizes(\"001_043.png\"))"
   ]
  },
  {
   "cell_type": "code",
   "execution_count": 9,
   "id": "5c728c0e-6464-4d01-97d9-7a8605c7f7cd",
   "metadata": {},
   "outputs": [],
   "source": [
    "# imagenames = bees_df.loc[:, \"file\"]\n",
    "# for index, value in imagenames.items():\n",
    "#     m = np.stack(bees_df['file'].apply(read_image_sizes))\n",
    "#     df = pd.DataFrame(m,columns=['w','h','c'])\n",
    "#     bees_df = pd.concat([bees_df, df], axis = 1, sort=False)"
   ]
  },
  {
   "cell_type": "code",
   "execution_count": 10,
   "id": "28621a21-960e-4740-9adf-88058c8c0de9",
   "metadata": {},
   "outputs": [],
   "source": [
    "# Fixing random state for reproducibility\n",
    "# np.random.seed(19680801)\n",
    "# N = 50\n",
    "# x = np.random.rand(N)\n",
    "# y = np.random.rand(N)\n",
    "# colors = np.random.rand(N)\n",
    "# area = (30 * np.random.rand(N))**2  # 0 to 15 point radii\n",
    "# plt.scatter(x, y, s=area, c=colors, alpha=0.5)\n",
    "# plt.show()"
   ]
  },
  {
   "cell_type": "code",
   "execution_count": 11,
   "id": "d837740f-318c-4397-b179-d1f85c948562",
   "metadata": {},
   "outputs": [],
   "source": [
    "health = bees_df['health']\n",
    "health_mask = health == \"healthy\"\n",
    "healthy_bees_df = bees_df.loc[health_mask]\n",
    "unhealthy_mask = health != \"healthy\"\n",
    "unhealthy_bees_df = bees_df.loc[unhealthy_mask]"
   ]
  },
  {
   "cell_type": "code",
   "execution_count": 18,
   "id": "8dc2e41e-f155-49a2-bb1b-f22a21548da6",
   "metadata": {},
   "outputs": [
    {
     "data": {
      "image/png": "[encoded data removed]",
      "text/plain": [
       "<Figure size 432x288 with 1 Axes>"
      ]
     },
     "metadata": {
      "needs_background": "light"
     },
     "output_type": "display_data"
    },
    {
     "data": {
      "image/png": "[encoded data removed]",
      "text/plain": [
       "<Figure size 432x288 with 1 Axes>"
      ]
     },
     "metadata": {
      "needs_background": "light"
     },
     "output_type": "display_data"
    },
    {
     "data": {
      "image/png": "[encoded data removed]",
      "text/plain": [
       "<Figure size 432x288 with 1 Axes>"
      ]
     },
     "metadata": {
      "needs_background": "light"
     },
     "output_type": "display_data"
    },
    {
     "data": {
      "image/png": "[encoded data removed]",
      "text/plain": [
       "<Figure size 432x288 with 1 Axes>"
      ]
     },
     "metadata": {
      "needs_background": "light"
     },
     "output_type": "display_data"
    },
    {
     "data": {
      "image/png": "[encoded data removed]",
      "text/plain": [
       "<Figure size 432x288 with 1 Axes>"
      ]
     },
     "metadata": {
      "needs_background": "light"
     },
     "output_type": "display_data"
    },
    {
     "data": {
      "image/png": "[encoded data removed]",
      "text/plain": [
       "<Figure size 432x288 with 1 Axes>"
      ]
     },
     "metadata": {
      "needs_background": "light"
     },
     "output_type": "display_data"
    },
    {
     "data": {
      "image/png": "[encoded data removed]",
      "text/plain": [
       "<Figure size 432x288 with 1 Axes>"
      ]
     },
     "metadata": {
      "needs_background": "light"
     },
     "output_type": "display_data"
    }
   ],
   "source": [
    "subspecies = bees_df.loc[:, 'subspecies']\n",
    "names = subspecies.unique()\n",
    "for name in names:\n",
    "    subspecies_mask = subspecies == name\n",
    "    subspecies_bees_df = bees_df.loc[subspecies_mask]\n",
    "    health_subspecies = subspecies_bees_df.loc[:,'health']\n",
    "    subspecies_count = subspecies_bees_df['health'].value_counts()\n",
    "    subspecies_count_df = pd.DataFrame(subspecies_count)\n",
    "    healthdist_subspecies = subspecies_count_df.iloc[:,0]\n",
    "    x = subspecies_count.index.values.tolist()\n",
    "    y = healthdist_subspecies.values.tolist()\n",
    "    # print(\"x= \" + x)\n",
    "    # print(\"y= \" + y)\n",
    "    plt.bar(x,y)\n",
    "    plt.show()\n",
    "    "
   ]
  },
  {
   "cell_type": "code",
   "execution_count": 13,
   "id": "175a2275-4764-42f5-bd30-1471501419fc",
   "metadata": {},
   "outputs": [
    {
     "data": {
      "image/png": "[encoded data removed]",
      "text/plain": [
       "<Figure size 432x288 with 1 Axes>"
      ]
     },
     "metadata": {
      "needs_background": "light"
     },
     "output_type": "display_data"
    }
   ],
   "source": [
    "height = [3, 12, 5, 18, 45]\n",
    "bars = ('A', 'B', 'C', 'D', 'E')\n",
    "y_pos = np.arange(len(bars))\n",
    "\n",
    "# Create bars\n",
    "plt.bar(y_pos, height)\n",
    "\n",
    "# Create names on the x-axis\n",
    "plt.xticks(y_pos, bars)\n",
    "\n",
    "# Show graphic\n",
    "plt.show()"
   ]
  }
 ],
 "metadata": {
  "kernelspec": {
   "display_name": "Python 3 (ipykernel)",
   "language": "python",
   "name": "python3"
  },
  "language_info": {
   "codemirror_mode": {
    "name": "ipython",
    "version": 3
   },
   "file_extension": ".py",
   "mimetype": "text/x-python",
   "name": "python",
   "nbconvert_exporter": "python",
   "pygments_lexer": "ipython3",
   "version": "3.9.12"
  }
 },
 "nbformat": 4,
 "nbformat_minor": 5
}
