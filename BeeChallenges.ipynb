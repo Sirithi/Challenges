{
 "cells": [
  {
   "cell_type": "markdown",
   "id": "6a1e15e9-946b-4ebd-9f54-55700690c01e",
   "metadata": {},
   "source": [
    "Ten eerste willen we inzicht krijgen in de data dit doen we door met behulp van pandas de data in te laden uit de csv. Daarnaast is het handig om het pad naar de images direct op te slaan."
   ]
  },
  {
   "cell_type": "code",
   "execution_count": 24,
   "id": "53f87268-489a-4401-8ea0-2ee120baecae",
   "metadata": {},
   "outputs": [
    {
     "data": {
      "text/html": [
       "<div>\n",
       "<style scoped>\n",
       "    .dataframe tbody tr th:only-of-type {\n",
       "        vertical-align: middle;\n",
       "    }\n",
       "\n",
       "    .dataframe tbody tr th {\n",
       "        vertical-align: top;\n",
       "    }\n",
       "\n",
       "    .dataframe thead th {\n",
       "        text-align: right;\n",
       "    }\n",
       "</style>\n",
       "<table border=\"1\" class=\"dataframe\">\n",
       "  <thead>\n",
       "    <tr style=\"text-align: right;\">\n",
       "      <th></th>\n",
       "      <th>file</th>\n",
       "      <th>date</th>\n",
       "      <th>time</th>\n",
       "      <th>location</th>\n",
       "      <th>zip code</th>\n",
       "      <th>subspecies</th>\n",
       "      <th>health</th>\n",
       "      <th>pollen_carrying</th>\n",
       "      <th>caste</th>\n",
       "    </tr>\n",
       "  </thead>\n",
       "  <tbody>\n",
       "    <tr>\n",
       "      <th>1987</th>\n",
       "      <td>016_038.png</td>\n",
       "      <td>8/20/18</td>\n",
       "      <td>11:55</td>\n",
       "      <td>San Jose, CA, USA</td>\n",
       "      <td>95124</td>\n",
       "      <td>-1</td>\n",
       "      <td>healthy</td>\n",
       "      <td>False</td>\n",
       "      <td>worker</td>\n",
       "    </tr>\n",
       "    <tr>\n",
       "      <th>3486</th>\n",
       "      <td>015_835.png</td>\n",
       "      <td>8/6/18</td>\n",
       "      <td>13:19</td>\n",
       "      <td>Saratoga, CA, USA</td>\n",
       "      <td>95070</td>\n",
       "      <td>Italian honey bee</td>\n",
       "      <td>healthy</td>\n",
       "      <td>False</td>\n",
       "      <td>worker</td>\n",
       "    </tr>\n",
       "    <tr>\n",
       "      <th>1546</th>\n",
       "      <td>040_461.png</td>\n",
       "      <td>8/21/18</td>\n",
       "      <td>15:56</td>\n",
       "      <td>Athens, GA, USA</td>\n",
       "      <td>30607</td>\n",
       "      <td>Italian honey bee</td>\n",
       "      <td>few varrao, hive beetles</td>\n",
       "      <td>False</td>\n",
       "      <td>worker</td>\n",
       "    </tr>\n",
       "    <tr>\n",
       "      <th>2456</th>\n",
       "      <td>004_107.png</td>\n",
       "      <td>7/2/18</td>\n",
       "      <td>15:30</td>\n",
       "      <td>Saratoga, CA, USA</td>\n",
       "      <td>95070</td>\n",
       "      <td>Italian honey bee</td>\n",
       "      <td>healthy</td>\n",
       "      <td>False</td>\n",
       "      <td>worker</td>\n",
       "    </tr>\n",
       "    <tr>\n",
       "      <th>4841</th>\n",
       "      <td>019_597.png</td>\n",
       "      <td>8/6/18</td>\n",
       "      <td>19:19</td>\n",
       "      <td>Saratoga, CA, USA</td>\n",
       "      <td>95070</td>\n",
       "      <td>Italian honey bee</td>\n",
       "      <td>healthy</td>\n",
       "      <td>False</td>\n",
       "      <td>worker</td>\n",
       "    </tr>\n",
       "  </tbody>\n",
       "</table>\n",
       "</div>"
      ],
      "text/plain": [
       "             file     date   time           location  zip code  \\\n",
       "1987  016_038.png  8/20/18  11:55  San Jose, CA, USA     95124   \n",
       "3486  015_835.png   8/6/18  13:19  Saratoga, CA, USA     95070   \n",
       "1546  040_461.png  8/21/18  15:56    Athens, GA, USA     30607   \n",
       "2456  004_107.png   7/2/18  15:30  Saratoga, CA, USA     95070   \n",
       "4841  019_597.png   8/6/18  19:19  Saratoga, CA, USA     95070   \n",
       "\n",
       "             subspecies                    health  pollen_carrying   caste  \n",
       "1987                 -1                   healthy            False  worker  \n",
       "3486  Italian honey bee                   healthy            False  worker  \n",
       "1546  Italian honey bee  few varrao, hive beetles            False  worker  \n",
       "2456  Italian honey bee                   healthy            False  worker  \n",
       "4841  Italian honey bee                   healthy            False  worker  "
      ]
     },
     "execution_count": 24,
     "metadata": {},
     "output_type": "execute_result"
    }
   ],
   "source": [
    "import pandas as pd\n",
    "bees_df = pd.read_csv('bee_data.csv')\n",
    "bees_df.sample(100).head()"
   ]
  },
  {
   "cell_type": "code",
   "execution_count": 28,
   "id": "9428eb9c-0f1b-40f7-b526-c92f2faa39fc",
   "metadata": {},
   "outputs": [],
   "source": [
    "IMG_PATH = \"./bee_imgs/bee_imgs/\""
   ]
  },
  {
   "cell_type": "code",
   "execution_count": 7,
   "id": "0a75c025-7888-4752-ae0f-68483a185145",
   "metadata": {},
   "outputs": [
    {
     "data": {
      "text/plain": [
       "(5172, 9)"
      ]
     },
     "execution_count": 7,
     "metadata": {},
     "output_type": "execute_result"
    }
   ],
   "source": [
    "bees_df.shape"
   ]
  },
  {
   "cell_type": "code",
   "execution_count": 10,
   "id": "646e4efc-d021-4df2-94ff-eb7511680dd3",
   "metadata": {},
   "outputs": [
    {
     "data": {
      "text/html": [
       "<div>\n",
       "<style scoped>\n",
       "    .dataframe tbody tr th:only-of-type {\n",
       "        vertical-align: middle;\n",
       "    }\n",
       "\n",
       "    .dataframe tbody tr th {\n",
       "        vertical-align: top;\n",
       "    }\n",
       "\n",
       "    .dataframe thead th {\n",
       "        text-align: right;\n",
       "    }\n",
       "</style>\n",
       "<table border=\"1\" class=\"dataframe\">\n",
       "  <thead>\n",
       "    <tr style=\"text-align: right;\">\n",
       "      <th></th>\n",
       "      <th>Total</th>\n",
       "      <th>Percent</th>\n",
       "    </tr>\n",
       "  </thead>\n",
       "  <tbody>\n",
       "    <tr>\n",
       "      <th>file</th>\n",
       "      <td>0</td>\n",
       "      <td>0.0</td>\n",
       "    </tr>\n",
       "    <tr>\n",
       "      <th>date</th>\n",
       "      <td>0</td>\n",
       "      <td>0.0</td>\n",
       "    </tr>\n",
       "    <tr>\n",
       "      <th>time</th>\n",
       "      <td>0</td>\n",
       "      <td>0.0</td>\n",
       "    </tr>\n",
       "    <tr>\n",
       "      <th>location</th>\n",
       "      <td>0</td>\n",
       "      <td>0.0</td>\n",
       "    </tr>\n",
       "    <tr>\n",
       "      <th>zip code</th>\n",
       "      <td>0</td>\n",
       "      <td>0.0</td>\n",
       "    </tr>\n",
       "    <tr>\n",
       "      <th>subspecies</th>\n",
       "      <td>0</td>\n",
       "      <td>0.0</td>\n",
       "    </tr>\n",
       "    <tr>\n",
       "      <th>health</th>\n",
       "      <td>0</td>\n",
       "      <td>0.0</td>\n",
       "    </tr>\n",
       "    <tr>\n",
       "      <th>pollen_carrying</th>\n",
       "      <td>0</td>\n",
       "      <td>0.0</td>\n",
       "    </tr>\n",
       "    <tr>\n",
       "      <th>caste</th>\n",
       "      <td>0</td>\n",
       "      <td>0.0</td>\n",
       "    </tr>\n",
       "  </tbody>\n",
       "</table>\n",
       "</div>"
      ],
      "text/plain": [
       "                 Total  Percent\n",
       "file                 0      0.0\n",
       "date                 0      0.0\n",
       "time                 0      0.0\n",
       "location             0      0.0\n",
       "zip code             0      0.0\n",
       "subspecies           0      0.0\n",
       "health               0      0.0\n",
       "pollen_carrying      0      0.0\n",
       "caste                0      0.0"
      ]
     },
     "execution_count": 10,
     "metadata": {},
     "output_type": "execute_result"
    }
   ],
   "source": [
    "def missing_data(data):\n",
    "    total = data.isnull().sum().sort_values(ascending = False)\n",
    "    percent = (data.isnull().sum()/data.isnull().count()*100).sort_values(ascending = False)\n",
    "    return pd.concat([total, percent], axis=1, keys=['Total', 'Percent'])\n",
    "missing_data(bees_df)"
   ]
  },
  {
   "cell_type": "code",
   "execution_count": 29,
   "id": "addc7e9f-4b47-4c1e-acc9-463a9dfafa2a",
   "metadata": {},
   "outputs": [
    {
     "name": "stdout",
     "output_type": "stream",
     "text": [
      "Number of image files: 5172\n"
     ]
    }
   ],
   "source": [
    "import os\n",
    "image_files = list(os.listdir(IMG_PATH))\n",
    "print(\"Number of image files: {}\".format(len(image_files)))"
   ]
  },
  {
   "cell_type": "code",
   "execution_count": 33,
   "id": "a74c032d-2583-419c-8ec6-b40b8b5ad65f",
   "metadata": {},
   "outputs": [
    {
     "name": "stdout",
     "output_type": "stream",
     "text": [
      "Matching image names: 5172\n"
     ]
    }
   ],
   "source": [
    "file_names = list(bees_df['file'])\n",
    "print(\"Matching image names: {}\".format(len(set(file_names).intersection(image_files))))"
   ]
  },
  {
   "cell_type": "code",
   "execution_count": null,
   "id": "f16b16b0-0236-45cf-9d1a-ef64ffb6caae",
   "metadata": {},
   "outputs": [],
   "source": [
    "import skimage\n",
    "import skimage.io\n",
    "import skimage.transform\n",
    "def read_image_sizes(file_name):\n",
    "    image = skimage.io.imread(IMG_PATH + file_name)\n",
    "    return list(image.shape)"
   ]
  },
  {
   "cell_type": "code",
   "execution_count": null,
   "id": "5c728c0e-6464-4d01-97d9-7a8605c7f7cd",
   "metadata": {},
   "outputs": [],
   "source": [
    "import numpy as np\n",
    "imagenames = bees_df.loc[:, \"file\"]\n",
    "for index, value in imagenames.items():\n",
    "    m = np.stack(bees_df['file'].apply(read_image_sizes))\n",
    "    df = pd.DataFrame(m,columns=['w','h','c'])\n",
    "    bees_df = pd.concat([bees_df, df], axis = 1, sort=False)"
   ]
  },
  {
   "cell_type": "code",
   "execution_count": null,
   "id": "28621a21-960e-4740-9adf-88058c8c0de9",
   "metadata": {},
   "outputs": [],
   "source": [
    "import matplotlib.pyplot as plt\n",
    "# Fixing random state for reproducibility\n",
    "# np.random.seed(19680801)\n",
    "# N = 50\n",
    "# x = np.random.rand(N)\n",
    "# y = np.random.rand(N)\n",
    "# colors = np.random.rand(N)\n",
    "# area = (30 * np.random.rand(N))**2  # 0 to 15 point radii\n",
    "plt.scatter(x, y, s=area, c=colors, alpha=0.5)\n",
    "plt.show()"
   ]
  }
 ],
 "metadata": {
  "kernelspec": {
   "display_name": "Python 3 (ipykernel)",
   "language": "python",
   "name": "python3"
  },
  "language_info": {
   "codemirror_mode": {
    "name": "ipython",
    "version": 3
   },
   "file_extension": ".py",
   "mimetype": "text/x-python",
   "name": "python",
   "nbconvert_exporter": "python",
   "pygments_lexer": "ipython3",
   "version": "3.9.12"
  }
 },
 "nbformat": 4,
 "nbformat_minor": 5
}
