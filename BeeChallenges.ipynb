{
 "cells": [
  {
   "cell_type": "markdown",
   "id": "6a1e15e9-946b-4ebd-9f54-55700690c01e",
   "metadata": {},
   "source": [
    "Ten eerste willen we inzicht krijgen in de data dit doen we door met behulp van pandas de data in te laden uit de csv. Daarnaast is het handig om het pad naar de images direct op te slaan."
   ]
  },
  {
   "cell_type": "code",
   "execution_count": 1,
   "id": "7c401bdb-e7aa-4980-8ae4-5bb8f4f6bbfe",
   "metadata": {},
   "outputs": [],
   "source": [
    "import pandas as pd\n",
    "import os\n",
    "import skimage\n",
    "import skimage.io\n",
    "import skimage.transform\n",
    "import matplotlib.pyplot as plt\n",
    "import numpy as np"
   ]
  },
  {
   "cell_type": "code",
   "execution_count": 2,
   "id": "53f87268-489a-4401-8ea0-2ee120baecae",
   "metadata": {},
   "outputs": [
    {
     "data": {
      "text/html": [
       "<div>\n",
       "<style scoped>\n",
       "    .dataframe tbody tr th:only-of-type {\n",
       "        vertical-align: middle;\n",
       "    }\n",
       "\n",
       "    .dataframe tbody tr th {\n",
       "        vertical-align: top;\n",
       "    }\n",
       "\n",
       "    .dataframe thead th {\n",
       "        text-align: right;\n",
       "    }\n",
       "</style>\n",
       "<table border=\"1\" class=\"dataframe\">\n",
       "  <thead>\n",
       "    <tr style=\"text-align: right;\">\n",
       "      <th></th>\n",
       "      <th>file</th>\n",
       "      <th>date</th>\n",
       "      <th>time</th>\n",
       "      <th>location</th>\n",
       "      <th>zip code</th>\n",
       "      <th>subspecies</th>\n",
       "      <th>health</th>\n",
       "      <th>pollen_carrying</th>\n",
       "      <th>caste</th>\n",
       "    </tr>\n",
       "  </thead>\n",
       "  <tbody>\n",
       "    <tr>\n",
       "      <th>1439</th>\n",
       "      <td>005_430.png</td>\n",
       "      <td>7/7/18</td>\n",
       "      <td>12:56</td>\n",
       "      <td>Saratoga, CA, USA</td>\n",
       "      <td>95070</td>\n",
       "      <td>Italian honey bee</td>\n",
       "      <td>healthy</td>\n",
       "      <td>False</td>\n",
       "      <td>worker</td>\n",
       "    </tr>\n",
       "    <tr>\n",
       "      <th>2012</th>\n",
       "      <td>016_162.png</td>\n",
       "      <td>8/20/18</td>\n",
       "      <td>11:55</td>\n",
       "      <td>San Jose, CA, USA</td>\n",
       "      <td>95124</td>\n",
       "      <td>-1</td>\n",
       "      <td>healthy</td>\n",
       "      <td>False</td>\n",
       "      <td>worker</td>\n",
       "    </tr>\n",
       "    <tr>\n",
       "      <th>2263</th>\n",
       "      <td>046_175.png</td>\n",
       "      <td>8/19/18</td>\n",
       "      <td>15:46</td>\n",
       "      <td>Des Moines, IA, USA</td>\n",
       "      <td>50315</td>\n",
       "      <td>Carniolan honey bee</td>\n",
       "      <td>healthy</td>\n",
       "      <td>False</td>\n",
       "      <td>worker</td>\n",
       "    </tr>\n",
       "    <tr>\n",
       "      <th>1675</th>\n",
       "      <td>040_398.png</td>\n",
       "      <td>8/21/18</td>\n",
       "      <td>15:56</td>\n",
       "      <td>Athens, GA, USA</td>\n",
       "      <td>30607</td>\n",
       "      <td>Italian honey bee</td>\n",
       "      <td>few varrao, hive beetles</td>\n",
       "      <td>False</td>\n",
       "      <td>worker</td>\n",
       "    </tr>\n",
       "    <tr>\n",
       "      <th>2905</th>\n",
       "      <td>010_621.png</td>\n",
       "      <td>8/19/18</td>\n",
       "      <td>12:46</td>\n",
       "      <td>Des Moines, IA, USA</td>\n",
       "      <td>50315</td>\n",
       "      <td>Carniolan honey bee</td>\n",
       "      <td>healthy</td>\n",
       "      <td>False</td>\n",
       "      <td>worker</td>\n",
       "    </tr>\n",
       "  </tbody>\n",
       "</table>\n",
       "</div>"
      ],
      "text/plain": [
       "             file     date   time             location  zip code  \\\n",
       "1439  005_430.png   7/7/18  12:56    Saratoga, CA, USA     95070   \n",
       "2012  016_162.png  8/20/18  11:55    San Jose, CA, USA     95124   \n",
       "2263  046_175.png  8/19/18  15:46  Des Moines, IA, USA     50315   \n",
       "1675  040_398.png  8/21/18  15:56      Athens, GA, USA     30607   \n",
       "2905  010_621.png  8/19/18  12:46  Des Moines, IA, USA     50315   \n",
       "\n",
       "               subspecies                    health  pollen_carrying   caste  \n",
       "1439    Italian honey bee                   healthy            False  worker  \n",
       "2012                   -1                   healthy            False  worker  \n",
       "2263  Carniolan honey bee                   healthy            False  worker  \n",
       "1675    Italian honey bee  few varrao, hive beetles            False  worker  \n",
       "2905  Carniolan honey bee                   healthy            False  worker  "
      ]
     },
     "execution_count": 2,
     "metadata": {},
     "output_type": "execute_result"
    }
   ],
   "source": [
    "bees_df = pd.read_csv('bee_data.csv')\n",
    "bees_df.sample(100).head()"
   ]
  },
  {
   "cell_type": "code",
   "execution_count": 3,
   "id": "9428eb9c-0f1b-40f7-b526-c92f2faa39fc",
   "metadata": {},
   "outputs": [],
   "source": [
    "IMG_PATH = \"./bee_imgs/bee_imgs/\""
   ]
  },
  {
   "cell_type": "code",
   "execution_count": 4,
   "id": "0a75c025-7888-4752-ae0f-68483a185145",
   "metadata": {},
   "outputs": [
    {
     "data": {
      "text/plain": [
       "(5172, 9)"
      ]
     },
     "execution_count": 4,
     "metadata": {},
     "output_type": "execute_result"
    }
   ],
   "source": [
    "bees_df.shape"
   ]
  },
  {
   "cell_type": "code",
   "execution_count": 5,
   "id": "646e4efc-d021-4df2-94ff-eb7511680dd3",
   "metadata": {},
   "outputs": [
    {
     "data": {
      "text/html": [
       "<div>\n",
       "<style scoped>\n",
       "    .dataframe tbody tr th:only-of-type {\n",
       "        vertical-align: middle;\n",
       "    }\n",
       "\n",
       "    .dataframe tbody tr th {\n",
       "        vertical-align: top;\n",
       "    }\n",
       "\n",
       "    .dataframe thead th {\n",
       "        text-align: right;\n",
       "    }\n",
       "</style>\n",
       "<table border=\"1\" class=\"dataframe\">\n",
       "  <thead>\n",
       "    <tr style=\"text-align: right;\">\n",
       "      <th></th>\n",
       "      <th>Total</th>\n",
       "      <th>Percent</th>\n",
       "    </tr>\n",
       "  </thead>\n",
       "  <tbody>\n",
       "    <tr>\n",
       "      <th>file</th>\n",
       "      <td>0</td>\n",
       "      <td>0.0</td>\n",
       "    </tr>\n",
       "    <tr>\n",
       "      <th>date</th>\n",
       "      <td>0</td>\n",
       "      <td>0.0</td>\n",
       "    </tr>\n",
       "    <tr>\n",
       "      <th>time</th>\n",
       "      <td>0</td>\n",
       "      <td>0.0</td>\n",
       "    </tr>\n",
       "    <tr>\n",
       "      <th>location</th>\n",
       "      <td>0</td>\n",
       "      <td>0.0</td>\n",
       "    </tr>\n",
       "    <tr>\n",
       "      <th>zip code</th>\n",
       "      <td>0</td>\n",
       "      <td>0.0</td>\n",
       "    </tr>\n",
       "    <tr>\n",
       "      <th>subspecies</th>\n",
       "      <td>0</td>\n",
       "      <td>0.0</td>\n",
       "    </tr>\n",
       "    <tr>\n",
       "      <th>health</th>\n",
       "      <td>0</td>\n",
       "      <td>0.0</td>\n",
       "    </tr>\n",
       "    <tr>\n",
       "      <th>pollen_carrying</th>\n",
       "      <td>0</td>\n",
       "      <td>0.0</td>\n",
       "    </tr>\n",
       "    <tr>\n",
       "      <th>caste</th>\n",
       "      <td>0</td>\n",
       "      <td>0.0</td>\n",
       "    </tr>\n",
       "  </tbody>\n",
       "</table>\n",
       "</div>"
      ],
      "text/plain": [
       "                 Total  Percent\n",
       "file                 0      0.0\n",
       "date                 0      0.0\n",
       "time                 0      0.0\n",
       "location             0      0.0\n",
       "zip code             0      0.0\n",
       "subspecies           0      0.0\n",
       "health               0      0.0\n",
       "pollen_carrying      0      0.0\n",
       "caste                0      0.0"
      ]
     },
     "execution_count": 5,
     "metadata": {},
     "output_type": "execute_result"
    }
   ],
   "source": [
    "def missing_data(data):\n",
    "    total = data.isnull().sum().sort_values(ascending = False)\n",
    "    percent = (data.isnull().sum()/data.isnull().count()*100).sort_values(ascending = False)\n",
    "    return pd.concat([total, percent], axis=1, keys=['Total', 'Percent'])\n",
    "missing_data(bees_df)"
   ]
  },
  {
   "cell_type": "code",
   "execution_count": 6,
   "id": "addc7e9f-4b47-4c1e-acc9-463a9dfafa2a",
   "metadata": {},
   "outputs": [
    {
     "name": "stdout",
     "output_type": "stream",
     "text": [
      "Number of image files: 5172\n"
     ]
    }
   ],
   "source": [
    "image_files = list(os.listdir(IMG_PATH))\n",
    "print(\"Number of image files: {}\".format(len(image_files)))"
   ]
  },
  {
   "cell_type": "code",
   "execution_count": 7,
   "id": "a74c032d-2583-419c-8ec6-b40b8b5ad65f",
   "metadata": {},
   "outputs": [
    {
     "name": "stdout",
     "output_type": "stream",
     "text": [
      "Matching image names: 5172\n"
     ]
    }
   ],
   "source": [
    "file_names = list(bees_df['file'])\n",
    "print(\"Matching image names: {}\".format(len(set(file_names).intersection(image_files))))"
   ]
  },
  {
   "cell_type": "code",
   "execution_count": 8,
   "id": "f16b16b0-0236-45cf-9d1a-ef64ffb6caae",
   "metadata": {},
   "outputs": [
    {
     "name": "stdout",
     "output_type": "stream",
     "text": [
      "[64, 68, 3]\n"
     ]
    }
   ],
   "source": [
    "def read_image_sizes(file_name):\n",
    "    image = skimage.io.imread(IMG_PATH + file_name)\n",
    "    return list(image.shape)\n",
    "print(read_image_sizes(\"001_043.png\"))"
   ]
  },
  {
   "cell_type": "code",
   "execution_count": 9,
   "id": "5c728c0e-6464-4d01-97d9-7a8605c7f7cd",
   "metadata": {},
   "outputs": [],
   "source": [
    "# imagenames = bees_df.loc[:, \"file\"]\n",
    "# for index, value in imagenames.items():\n",
    "#     m = np.stack(bees_df['file'].apply(read_image_sizes))\n",
    "#     df = pd.DataFrame(m,columns=['w','h','c'])\n",
    "#     bees_df = pd.concat([bees_df, df], axis = 1, sort=False)"
   ]
  },
  {
   "cell_type": "code",
   "execution_count": 10,
   "id": "28621a21-960e-4740-9adf-88058c8c0de9",
   "metadata": {},
   "outputs": [],
   "source": [
    "# Fixing random state for reproducibility\n",
    "# np.random.seed(19680801)\n",
    "# N = 50\n",
    "# x = np.random.rand(N)\n",
    "# y = np.random.rand(N)\n",
    "# colors = np.random.rand(N)\n",
    "# area = (30 * np.random.rand(N))**2  # 0 to 15 point radii\n",
    "# plt.scatter(x, y, s=area, c=colors, alpha=0.5)\n",
    "# plt.show()"
   ]
  },
  {
   "cell_type": "code",
   "execution_count": 11,
   "id": "d837740f-318c-4397-b179-d1f85c948562",
   "metadata": {},
   "outputs": [],
   "source": [
    "health = bees_df['health']\n",
    "health_mask = health == \"healthy\"\n",
    "healthy_bees_df = bees_df.loc[health_mask]\n",
    "unhealthy_mask = health != \"healthy\"\n",
    "unhealthy_bees_df = bees_df.loc[unhealthy_mask]"
   ]
  },
  {
   "cell_type": "code",
   "execution_count": 12,
   "id": "8dc2e41e-f155-49a2-bb1b-f22a21548da6",
   "metadata": {},
   "outputs": [
    {
     "name": "stdout",
     "output_type": "stream",
     "text": [
      "['-1' 'Italian honey bee' 'VSH Italian honey bee' 'Carniolan honey bee'\n",
      " 'Russian honey bee' '1 Mixed local stock 2' 'Western honey bee']\n"
     ]
    },
    {
     "data": {
      "image/png": "[encoded data removed]",
      "text/plain": [
       "<Figure size 432x288 with 1 Axes>"
      ]
     },
     "metadata": {
      "needs_background": "light"
     },
     "output_type": "display_data"
    },
    {
     "data": {
      "image/png": "[encoded data removed]",
      "text/plain": [
       "<Figure size 432x288 with 1 Axes>"
      ]
     },
     "metadata": {
      "needs_background": "light"
     },
     "output_type": "display_data"
    },
    {
     "data": {
      "image/png": "[encoded data removed]",
      "text/plain": [
       "<Figure size 432x288 with 1 Axes>"
      ]
     },
     "metadata": {
      "needs_background": "light"
     },
     "output_type": "display_data"
    },
    {
     "data": {
      "image/png": "[encoded data removed]",
      "text/plain": [
       "<Figure size 432x288 with 1 Axes>"
      ]
     },
     "metadata": {
      "needs_background": "light"
     },
     "output_type": "display_data"
    },
    {
     "data": {
      "image/png": "[encoded data removed]",
      "text/plain": [
       "<Figure size 432x288 with 1 Axes>"
      ]
     },
     "metadata": {
      "needs_background": "light"
     },
     "output_type": "display_data"
    },
    {
     "data": {
      "image/png": "[encoded data removed]",
      "text/plain": [
       "<Figure size 432x288 with 1 Axes>"
      ]
     },
     "metadata": {
      "needs_background": "light"
     },
     "output_type": "display_data"
    },
    {
     "data": {
      "image/png": "[encoded data removed]",
      "text/plain": [
       "<Figure size 432x288 with 1 Axes>"
      ]
     },
     "metadata": {
      "needs_background": "light"
     },
     "output_type": "display_data"
    }
   ],
   "source": [
    "subspecies = bees_df.loc[:, 'subspecies']\n",
    "names = subspecies.unique()\n",
    "print(names)\n",
    "for name in names:\n",
    "    subspecies_mask = subspecies == name\n",
    "    subspecies_bees_df = bees_df.loc[subspecies_mask]\n",
    "    health_subspecies = subspecies_bees_df.loc[:,'health']\n",
    "    subspecies_count = subspecies_bees_df['health'].value_counts()\n",
    "    subspecies_count_df = pd.DataFrame(subspecies_count)\n",
    "    healthdist_subspecies = subspecies_count_df.iloc[:,0]\n",
    "    x = subspecies_count.index.values.tolist()\n",
    "    y = healthdist_subspecies.values.tolist()\n",
    "    # print(\"x= \" + x)\n",
    "    # print(\"y= \" + y)\n",
    "    plt.bar(x,y)\n",
    "    plt.title(\"Health distribution for: \" + name)\n",
    "    plt.show()\n",
    "    "
   ]
  },
  {
   "cell_type": "code",
   "execution_count": 13,
   "id": "175a2275-4764-42f5-bd30-1471501419fc",
   "metadata": {},
   "outputs": [],
   "source": [
    "health = bees_df.loc[:,'health']\n",
    "hivebeetles1_mask = health == 'Varroa, Small Hive Beetles'\n",
    "hivebeetles2_mask = health == 'few varrao, hive beetles'\n",
    "\n",
    "hivebeetles = bees_df.loc[hivebeetles1_mask|hivebeetles2_mask]\n",
    "\n",
    "bees_df['health'] = bees_df['health'].replace(['Varroa, Small Hive Beetles', 'few varrao, hive beetles'], 'Varroa, Hive Beetles')"
   ]
  },
  {
   "cell_type": "code",
   "execution_count": 14,
   "id": "8aaa0b0f-9f6d-442b-a5bb-7f5827c1bb0e",
   "metadata": {},
   "outputs": [
    {
     "data": {
      "image/png": "[encoded data removed]",
      "text/plain": [
       "<Figure size 432x288 with 1 Axes>"
      ]
     },
     "metadata": {
      "needs_background": "light"
     },
     "output_type": "display_data"
    }
   ],
   "source": [
    "for name in names:\n",
    "    subspecies_mask = subspecies == name\n",
    "    subspecies_bees_df = bees_df.loc[subspecies_mask]\n",
    "    health_subspecies = subspecies_bees_df.loc[:,'health']\n",
    "    subspecies_count = subspecies_bees_df['health'].value_counts()\n",
    "    subspecies_count_df = pd.DataFrame(subspecies_count)\n",
    "    healthdist_subspecies = subspecies_count_df.iloc[:,0]\n",
    "    x = subspecies_count.index.values.tolist()\n",
    "    y = healthdist_subspecies.values.tolist()\n",
    "    plt.bar(x,y)\n",
    "    plt.title(\"Health distribution for: \" + name)\n",
    "    plt.xticks(rotation=300)\n",
    "    # plt.show()\n",
    "    "
   ]
  },
  {
   "cell_type": "code",
   "execution_count": 17,
   "id": "e09e0aba-16aa-4a13-8734-1bff6bd7e9e4",
   "metadata": {},
   "outputs": [
    {
     "data": {
      "text/plain": [
       "<BarContainer object of 5172 artists>"
      ]
     },
     "execution_count": 17,
     "metadata": {},
     "output_type": "execute_result"
    },
    {
     "data": {
      "image/png": "[encoded data removed]",
      "text/plain": [
       "<Figure size 432x288 with 1 Axes>"
      ]
     },
     "metadata": {
      "needs_background": "light"
     },
     "output_type": "display_data"
    }
   ],
   "source": [
    "x = bees_df['caste']\n",
    "y = bees_df['caste'].value_counts()\n",
    "plt.bar(x,y)"
   ]
  },
  {
   "cell_type": "code",
   "execution_count": null,
   "id": "75b55a75-7c27-4964-945c-29c60f3ccf50",
   "metadata": {},
   "outputs": [],
   "source": []
  }
 ],
 "metadata": {
  "kernelspec": {
   "display_name": "Python 3 (ipykernel)",
   "language": "python",
   "name": "python3"
  },
  "language_info": {
   "codemirror_mode": {
    "name": "ipython",
    "version": 3
   },
   "file_extension": ".py",
   "mimetype": "text/x-python",
   "name": "python",
   "nbconvert_exporter": "python",
   "pygments_lexer": "ipython3",
   "version": "3.9.12"
  }
 },
 "nbformat": 4,
 "nbformat_minor": 5
}
